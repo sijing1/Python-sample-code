{
 "cells": [
  {
   "cell_type": "code",
   "execution_count": 1,
   "metadata": {},
   "outputs": [],
   "source": [
    "import numpy as np\n",
    "import pandas as pd\n",
    "import keras as tf\n",
    "from keras.utils.vis_utils import model_to_dot\n",
    "from sklearn.model_selection import train_test_split\n",
    "import matplotlib.pyplot as plt\n",
    "from sklearn.metrics import mean_absolute_error\n",
    "from keras.models import Model, Sequential\n",
    "from keras.layers import Embedding, Flatten, Input, merge, Dropout, Dense, BatchNormalization,Dot\n",
    "from keras.utils.vis_utils import plot_model\n"
   ]
  },
  {
   "cell_type": "markdown",
   "metadata": {},
   "source": [
    "First change  movie and user id into sequence from 1 to number of movie or user"
   ]
  },
  {
   "cell_type": "code",
   "execution_count": 2,
   "metadata": {},
   "outputs": [
    {
     "data": {
      "text/html": [
       "<div>\n",
       "<style scoped>\n",
       "    .dataframe tbody tr th:only-of-type {\n",
       "        vertical-align: middle;\n",
       "    }\n",
       "\n",
       "    .dataframe tbody tr th {\n",
       "        vertical-align: top;\n",
       "    }\n",
       "\n",
       "    .dataframe thead th {\n",
       "        text-align: right;\n",
       "    }\n",
       "</style>\n",
       "<table border=\"1\" class=\"dataframe\">\n",
       "  <thead>\n",
       "    <tr style=\"text-align: right;\">\n",
       "      <th></th>\n",
       "      <th>user_id</th>\n",
       "      <th>movie_id</th>\n",
       "      <th>rating</th>\n",
       "    </tr>\n",
       "  </thead>\n",
       "  <tbody>\n",
       "    <tr>\n",
       "      <th>0</th>\n",
       "      <td>1</td>\n",
       "      <td>1</td>\n",
       "      <td>5</td>\n",
       "    </tr>\n",
       "    <tr>\n",
       "      <th>1</th>\n",
       "      <td>1</td>\n",
       "      <td>2</td>\n",
       "      <td>3</td>\n",
       "    </tr>\n",
       "    <tr>\n",
       "      <th>2</th>\n",
       "      <td>1</td>\n",
       "      <td>3</td>\n",
       "      <td>5</td>\n",
       "    </tr>\n",
       "    <tr>\n",
       "      <th>3</th>\n",
       "      <td>1</td>\n",
       "      <td>4</td>\n",
       "      <td>4</td>\n",
       "    </tr>\n",
       "    <tr>\n",
       "      <th>4</th>\n",
       "      <td>1</td>\n",
       "      <td>5</td>\n",
       "      <td>4</td>\n",
       "    </tr>\n",
       "  </tbody>\n",
       "</table>\n",
       "</div>"
      ],
      "text/plain": [
       "   user_id  movie_id  rating\n",
       "0        1         1       5\n",
       "1        1         2       3\n",
       "2        1         3       5\n",
       "3        1         4       4\n",
       "4        1         5       4"
      ]
     },
     "execution_count": 2,
     "metadata": {},
     "output_type": "execute_result"
    }
   ],
   "source": [
    "dataset = pd.read_csv(\"Movie Recommendation Lab/ratings.csv\", header=0, names=['user_id', 'movie_id', 'rating'])\n",
    "np.random.seed(100)\n",
    "movie_id_to_new_id = dict()\n",
    "user_id_to_new_id = dict()\n",
    "id = 1\n",
    "user_id = 1\n",
    "for index, row in dataset.iterrows():\n",
    "    if movie_id_to_new_id.get(row['movie_id']) is None:\n",
    "        movie_id_to_new_id[row['movie_id']] = id\n",
    "        dataset.at[index, 'movie_id'] = id\n",
    "        id += 1\n",
    "    else:\n",
    "        dataset.at[index, 'movie_id'] = movie_id_to_new_id.get(row['movie_id'])\n",
    "        \n",
    "    if user_id_to_new_id.get(row['user_id']) is None:\n",
    "        user_id_to_new_id[row['user_id']] = user_id\n",
    "        dataset.at[index, 'user_id'] = user_id\n",
    "        user_id += 1\n",
    "    else:\n",
    "        dataset.at[index, 'user_id'] = user_id_to_new_id.get(row['user_id'])\n",
    "num_users = len(dataset.user_id.unique())\n",
    "num_movies = len(dataset.movie_id.unique())\n",
    "train, test = train_test_split(dataset, test_size=0.2)\n",
    "dataset.head()"
   ]
  },
  {
   "cell_type": "markdown",
   "metadata": {},
   "source": [
    "Building models"
   ]
  },
  {
   "cell_type": "code",
   "execution_count": 3,
   "metadata": {},
   "outputs": [],
   "source": [
    "latent_dim = 10\n",
    "movie_input = Input(shape=[1],name='movie-input')\n",
    "movie_embedding = Embedding(num_movies + 1, latent_dim, name='movie-embedding')(movie_input)\n",
    "movie_vec = Flatten(name='movie-flatten')(movie_embedding)\n",
    "user_input = Input(shape=[1],name='user-input')\n",
    "user_embedding = Embedding(num_users + 1, latent_dim, name='user-embedding')(user_input)\n",
    "user_vec = Flatten(name='user-flatten')(user_embedding)\n",
    "prod = Dot(axes=1)([movie_vec, user_vec])\n",
    "model = Model([user_input, movie_input], prod)\n",
    "model.compile('adam', 'mean_squared_error')\n"
   ]
  },
  {
   "cell_type": "code",
   "execution_count": 4,
   "metadata": {},
   "outputs": [
    {
     "name": "stdout",
     "output_type": "stream",
     "text": [
      "KerasTensor(type_spec=TensorSpec(shape=(None, 10), dtype=tf.float32, name=None), name='movie-flatten/Reshape:0', description=\"created by layer 'movie-flatten'\")\n"
     ]
    }
   ],
   "source": [
    "print(movie_vec)"
   ]
  },
  {
   "cell_type": "code",
   "execution_count": 5,
   "metadata": {},
   "outputs": [
    {
     "name": "stdout",
     "output_type": "stream",
     "text": [
      "Model: \"model\"\n",
      "__________________________________________________________________________________________________\n",
      " Layer (type)                   Output Shape         Param #     Connected to                     \n",
      "==================================================================================================\n",
      " movie-input (InputLayer)       [(None, 1)]          0           []                               \n",
      "                                                                                                  \n",
      " user-input (InputLayer)        [(None, 1)]          0           []                               \n",
      "                                                                                                  \n",
      " movie-embedding (Embedding)    (None, 1, 10)        14660       ['movie-input[0][0]']            \n",
      "                                                                                                  \n",
      " user-embedding (Embedding)     (None, 1, 10)        23540       ['user-input[0][0]']             \n",
      "                                                                                                  \n",
      " movie-flatten (Flatten)        (None, 10)           0           ['movie-embedding[0][0]']        \n",
      "                                                                                                  \n",
      " user-flatten (Flatten)         (None, 10)           0           ['user-embedding[0][0]']         \n",
      "                                                                                                  \n",
      " dot (Dot)                      (None, 1)            0           ['movie-flatten[0][0]',          \n",
      "                                                                  'user-flatten[0][0]']           \n",
      "                                                                                                  \n",
      "==================================================================================================\n",
      "Total params: 38,200\n",
      "Trainable params: 38,200\n",
      "Non-trainable params: 0\n",
      "__________________________________________________________________________________________________\n"
     ]
    }
   ],
   "source": [
    "model.summary()"
   ]
  },
  {
   "cell_type": "code",
   "execution_count": 6,
   "metadata": {},
   "outputs": [
    {
     "data": {
      "image/png": "[encoded data removed]",
      "text/plain": [
       "<IPython.core.display.Image object>"
      ]
     },
     "execution_count": 6,
     "metadata": {},
     "output_type": "execute_result"
    }
   ],
   "source": [
    "plot_model(model, to_file='model.png',show_shapes=True)"
   ]
  },
  {
   "cell_type": "markdown",
   "metadata": {},
   "source": [
    "Train and test  models"
   ]
  },
  {
   "cell_type": "code",
   "execution_count": 7,
   "metadata": {},
   "outputs": [
    {
     "name": "stdout",
     "output_type": "stream",
     "text": [
      "Epoch 1/10\n",
      "791/791 [==============================] - 1s 496us/step - loss: 13.8178\n",
      "Epoch 2/10\n",
      "791/791 [==============================] - 0s 493us/step - loss: 9.3751\n",
      "Epoch 3/10\n",
      "791/791 [==============================] - 0s 491us/step - loss: 4.6486\n",
      "Epoch 4/10\n",
      "791/791 [==============================] - 0s 504us/step - loss: 3.0692\n",
      "Epoch 5/10\n",
      "791/791 [==============================] - 0s 508us/step - loss: 2.3424\n",
      "Epoch 6/10\n",
      "791/791 [==============================] - 0s 498us/step - loss: 1.9124\n",
      "Epoch 7/10\n",
      "791/791 [==============================] - 0s 544us/step - loss: 1.6303\n",
      "Epoch 8/10\n",
      "791/791 [==============================] - 0s 546us/step - loss: 1.4326\n",
      "Epoch 9/10\n",
      "791/791 [==============================] - 0s 510us/step - loss: 1.2889\n",
      "Epoch 10/10\n",
      "791/791 [==============================] - 0s 509us/step - loss: 1.1794\n"
     ]
    },
    {
     "data": {
      "image/png": "[encoded data removed]",
      "text/plain": [
       "<Figure size 432x288 with 1 Axes>"
      ]
     },
     "metadata": {
      "needs_background": "light"
     },
     "output_type": "display_data"
    },
    {
     "name": "stdout",
     "output_type": "stream",
     "text": [
      "mean_absolute_error =  0.9639010124708479\n"
     ]
    }
   ],
   "source": [
    "history = model.fit([train.user_id, train.movie_id], train.rating, epochs=10)\n",
    "pd.Series(history.history['loss']).plot(logy=True)\n",
    "plt.xlabel(\"Epoch\")\n",
    "plt.ylabel(\"Train Error\")\n",
    "plt.show()\n",
    "y_hat = np.round(model.predict([test.user_id, test.movie_id]), decimals=2)\n",
    "y_true = test.rating\n",
    "print('mean_absolute_error = ',mean_absolute_error(y_true, y_hat))\n"
   ]
  },
  {
   "cell_type": "code",
   "execution_count": 8,
   "metadata": {},
   "outputs": [
    {
     "data": {
      "text/plain": [
       "array([[3.9 ],\n",
       "       [2.45],\n",
       "       [2.33],\n",
       "       ...,\n",
       "       [3.51],\n",
       "       [4.85],\n",
       "       [3.63]], dtype=float32)"
      ]
     },
     "execution_count": 8,
     "metadata": {},
     "output_type": "execute_result"
    }
   ],
   "source": [
    "y_hat"
   ]
  },
  {
   "cell_type": "markdown",
   "metadata": {},
   "source": []
  },
  {
   "cell_type": "code",
   "execution_count": 9,
   "metadata": {},
   "outputs": [],
   "source": [
    "mp = \"NeuralMFmodel.h5\"\n",
    "model.save(mp)"
   ]
  },
  {
   "cell_type": "code",
   "execution_count": 10,
   "metadata": {},
   "outputs": [
    {
     "data": {
      "text/plain": [
       "(array([ 279.,   52.,  282.,  545., 1125., 2082., 1476.,  407.,   68.,\n",
       "           8.]),\n",
       " array([-0.26     ,  0.425    ,  1.11     ,  1.7950001,  2.48     ,\n",
       "         3.165    ,  3.8500001,  4.5350003,  5.2200003,  5.905    ,\n",
       "         6.59     ], dtype=float32),\n",
       " <BarContainer object of 10 artists>)"
      ]
     },
     "execution_count": 10,
     "metadata": {},
     "output_type": "execute_result"
    },
    {
     "data": {
      "image/png": "[encoded data removed]",
      "text/plain": [
       "<Figure size 432x288 with 1 Axes>"
      ]
     },
     "metadata": {
      "needs_background": "light"
     },
     "output_type": "display_data"
    }
   ],
   "source": [
    "import matplotlib as mpl\n",
    "import matplotlib.pyplot as plt\n",
    "from scipy import stats\n",
    "import seaborn as sns\n",
    "\n",
    "\n",
    "plt.hist(y_hat )"
   ]
  }
 ],
 "metadata": {
  "interpreter": {
   "hash": "73e03da126b73bfff3642ec5261d56fa25c444ea595de51041687efaa60dda41"
  },
  "kernelspec": {
   "display_name": "Python 3.8.8 64-bit ('base': conda)",
   "language": "python",
   "name": "python3"
  },
  "language_info": {
   "codemirror_mode": {
    "name": "ipython",
    "version": 3
   },
   "file_extension": ".py",
   "mimetype": "text/x-python",
   "name": "python",
   "nbconvert_exporter": "python",
   "pygments_lexer": "ipython3",
   "version": "3.8.8"
  },
  "orig_nbformat": 4
 },
 "nbformat": 4,
 "nbformat_minor": 2
}
